{
 "cells": [
  {
   "cell_type": "markdown",
   "metadata": {},
   "source": [
    "# Comparission"
   ]
  },
  {
   "cell_type": "markdown",
   "metadata": {},
   "source": [
    "**< strictly less than**\n",
    "\n",
    "**<= less than or equal**\n",
    "\n",
    "**> strictly greater than**\n",
    "\n",
    "**>= greater than or equal**\n",
    "\n",
    "**== equal**\n",
    "\n",
    "**!= not equal**\n",
    "\n",
    "**is object identity**\n",
    "\n",
    "**is not negated object identity**"
   ]
  },
  {
   "cell_type": "code",
   "execution_count": 2,
   "metadata": {},
   "outputs": [
    {
     "name": "stdout",
     "output_type": "stream",
     "text": [
      "True\n"
     ]
    }
   ],
   "source": [
    "# is\n",
    "#Ex:1\n",
    "\n",
    "x = 10 \n",
    "y = 10\n",
    "\n",
    "\n",
    "if x is y:\n",
    "    print(\"True\")\n",
    "else:\n",
    "    print(\"False\")"
   ]
  },
  {
   "cell_type": "code",
   "execution_count": 4,
   "metadata": {},
   "outputs": [
    {
     "name": "stdout",
     "output_type": "stream",
     "text": [
      "True\n"
     ]
    }
   ],
   "source": [
    "# is not\n",
    "#Ex:1\n",
    "\n",
    "x = 10 \n",
    "y = 20\n",
    "\n",
    "\n",
    "if x is not y:\n",
    "    print(\"True\")\n",
    "else:\n",
    "    print(\"False\")"
   ]
  },
  {
   "cell_type": "markdown",
   "metadata": {},
   "source": [
    "## Two more operations with the same syntactic priority, <u><i>in</i></u> and <u><i>not in</i></u>, are supported by types that are iterable or implement the __contains__() method."
   ]
  },
  {
   "cell_type": "code",
   "execution_count": 5,
   "metadata": {},
   "outputs": [
    {
     "name": "stdout",
     "output_type": "stream",
     "text": [
      "True\n"
     ]
    }
   ],
   "source": [
    "# in\n",
    "#Ex:1\n",
    "\n",
    "list = [10,20,30]\n",
    "\n",
    "if 10 in list:\n",
    "    print(\"True\")\n",
    "else:\n",
    "    print(\"False\")"
   ]
  },
  {
   "cell_type": "code",
   "execution_count": 8,
   "metadata": {},
   "outputs": [
    {
     "name": "stdout",
     "output_type": "stream",
     "text": [
      "False\n"
     ]
    }
   ],
   "source": [
    "# in\n",
    "#Ex:2\n",
    "\n",
    "list = [10,20,30]\n",
    "\n",
    "if 50 in list:\n",
    "    print(\"True\")\n",
    "else:\n",
    "    print(\"False\")"
   ]
  },
  {
   "cell_type": "code",
   "execution_count": 10,
   "metadata": {},
   "outputs": [
    {
     "name": "stdout",
     "output_type": "stream",
     "text": [
      "False\n"
     ]
    }
   ],
   "source": [
    "# not in\n",
    "#Ex:1\n",
    "\n",
    "list = [10,20,30]\n",
    "\n",
    "if 10 not in list:\n",
    "    print(\"True\")\n",
    "else:\n",
    "    print(\"False\")"
   ]
  },
  {
   "cell_type": "code",
   "execution_count": 11,
   "metadata": {},
   "outputs": [
    {
     "name": "stdout",
     "output_type": "stream",
     "text": [
      "True\n"
     ]
    }
   ],
   "source": [
    "# not in\n",
    "#Ex:2\n",
    "\n",
    "list = [10,20,30]\n",
    "\n",
    "if 50 not in list:\n",
    "    print(\"True\")\n",
    "else:\n",
    "    print(\"False\")"
   ]
  }
 ],
 "metadata": {
  "kernelspec": {
   "display_name": "Python 3",
   "language": "python",
   "name": "python3"
  },
  "language_info": {
   "codemirror_mode": {
    "name": "ipython",
    "version": 3
   },
   "file_extension": ".py",
   "mimetype": "text/x-python",
   "name": "python",
   "nbconvert_exporter": "python",
   "pygments_lexer": "ipython3",
   "version": "3.7.6"
  }
 },
 "nbformat": 4,
 "nbformat_minor": 4
}
