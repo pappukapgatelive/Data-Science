{
 "cells": [
  {
   "cell_type": "markdown",
   "metadata": {},
   "source": [
    "## Swapping\n",
    "\n",
    "Description\n",
    "\n",
    "You are given two integer variables,  x and y. You have to swap the values stored in x and y.\n",
    "\n",
    "----------------------------------------------------------------------\n",
    "----------------------------------------------------------------------\n",
    "\n",
    "Input:\n",
    "\n",
    "Two numbers x and y separated by a comma.\n",
    "\n",
    "Output:\n",
    "Print 5 lines. The first two lines will have values of variables shown before swapping, and the last two lines will have values of variables shown after swapping. The third line will be blank.\n",
    "\n",
    "----------------------------------------------------------------------\n",
    "----------------------------------------------------------------------\n",
    "\n",
    "\n",
    "\n",
    "Sample input:\n",
    "20, 50\n",
    "\n",
    "Sample output:\n",
    "\n",
    "x before swapping: 20\n",
    "\n",
    "y before swapping: 50\n",
    "\n",
    "x after swapping: 50\n",
    "\n",
    "y after swapping: 20"
   ]
  },
  {
   "cell_type": "code",
   "execution_count": 1,
   "metadata": {},
   "outputs": [
    {
     "name": "stdout",
     "output_type": "stream",
     "text": [
      "20, 50\n",
      "x before swapping: 20\n",
      "y before swapping: 50\n",
      "\n",
      "x after swapping: 50\n",
      "y after swapping: 20\n"
     ]
    }
   ],
   "source": [
    "#Take input using input()\n",
    "\n",
    "#input() takes input in form of the string\n",
    "in_string=input()\n",
    "in_string_list = in_string.split(',')\n",
    "#here extract the two numbers from the string\n",
    "first_number = int(in_string_list[0])\n",
    "second_number = int(in_string_list[1])\n",
    "#print x and y before swapping\n",
    "print(\"x before swapping:\" ,first_number)\n",
    "print(\"y before swapping:\" ,second_number)\n",
    "print()\n",
    "#Writing your swapping code here\n",
    "temp_var = first_number\n",
    "first_number = second_number\n",
    "second_number = temp_var\n",
    "\n",
    "#print(\"\\n\")\n",
    "\n",
    "#print x and y after swapping\n",
    "print(\"x after swapping:\" ,first_number)\n",
    "print(\"y after swapping:\" ,second_number)\n",
    "\n",
    "\n",
    "\n"
   ]
  }
 ],
 "metadata": {
  "kernelspec": {
   "display_name": "Python 3",
   "language": "python",
   "name": "python3"
  },
  "language_info": {
   "codemirror_mode": {
    "name": "ipython",
    "version": 3
   },
   "file_extension": ".py",
   "mimetype": "text/x-python",
   "name": "python",
   "nbconvert_exporter": "python",
   "pygments_lexer": "ipython3",
   "version": "3.7.6"
  }
 },
 "nbformat": 4,
 "nbformat_minor": 4
}
