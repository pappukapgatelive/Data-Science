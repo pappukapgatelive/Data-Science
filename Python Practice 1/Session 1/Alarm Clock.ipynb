{
 "cells": [
  {
   "cell_type": "markdown",
   "metadata": {},
   "source": [
    "# Alarm Clock\n",
    "\n",
    "Do you wake up at the same time every morning? No, right? If it is a normal working day where you're swamped with work and meetings starting early morning, you try to wake up as soon as possible. If it is a weekend or a vacation day, you mostly want to give yourself some extra rest, right? Now, you might set alarms for this manually periodically depending on what day it is. Instead of manually setting up an alarm, what if you try to write a code that automates the time the alarm goes off. If there was some way for the alarm to know the kind of day it is, it would automatically ring according to the preferences set by you. Let's attempt to do this.\n",
    "\n",
    " \n",
    "\n",
    "So the problem statement is, you're trying to automate your alarm clock by writing a function for it. You're given a day of the week encoded as 1 = Mon, 2 = Tue, ..., 6 = Sat, 7 = Sun, and whether you are on vacation as a boolean value (a boolean object is either True or False. Google \"booleans Python\" to get a better understanding).\n",
    "\n",
    " \n",
    "\n",
    "Based on the day and whether you're on vacation, write a function that returns a time in form of a string indicating when the alarm clock should ring.\n",
    "\n",
    " \n",
    "\n",
    "When not on a vacation, on weekdays, the alarm should ring at \"7:00\" and on the weekends (Saturday and Sunday) it should ring at \"10:00\".\n",
    "\n",
    " \n",
    "\n",
    "While on a vacation, it should ring at \"10:00\" on weekdays. On vacation, it should not ring on weekends, i.e., it should return \"off\". You may have a look at the problem statement from the coding quiz question before proceeding with the video. "
   ]
  },
  {
   "cell_type": "markdown",
   "metadata": {},
   "source": [
    "## Alarm Clock Program\n",
    "Description\n",
    "You're trying to automate your alarm clock by writing a function for it. You're given a day of the week encoded as 1=Mon, 2=Tue, ... 6=Sat, 7=Sun, and whether you are on vacation as a boolean value (a boolean object is either True or False. Google \"booleans python\" to get a better understanding). Based on the day and whether you're on vacation, write a function that returns a time in form of a string indicating when the alarm clock should ring. \n",
    "\n",
    "When not on a vacation, on weekdays, the alarm should ring at \"7:00\" and on the weekends (Saturday and Sunday) it should ring at \"10:00\". \n",
    "\n",
    "While on a vacation, it should ring at \"10:00\" on weekdays. On vacation, it should not ring on weekends, that is, it should return \"off\".\n",
    "\n",
    "----------------------------------------------------------------------\n",
    "Input:\n",
    "The input will be a list of two elements. The first element will be an integer from 1 to 7, and the second element will be a boolean value.\n",
    "\n",
    "Output:\n",
    "The output will be a string denoting the time alarm will ring or 'off'\n",
    "\n",
    "----------------------------------------------------------------------\n",
    "\n",
    "Sample input:\n",
    "\n",
    "[7, True]\n",
    "\n",
    "Sample output:\n",
    "\n",
    "off\n",
    "\n",
    "----------------------------------------------------------------------\n",
    "\n",
    "Sample input:\n",
    "\n",
    "[3, True]\n",
    "\n",
    "Sample output:\n",
    "\n",
    "10:00\n"
   ]
  },
  {
   "cell_type": "code",
   "execution_count": 2,
   "metadata": {},
   "outputs": [
    {
     "name": "stdout",
     "output_type": "stream",
     "text": [
      "[1,False]\n",
      "7:00\n"
     ]
    }
   ],
   "source": [
    "#Take input here\n",
    "#we will take input using ast sys\n",
    "import ast\n",
    "input_str = input()\n",
    "\n",
    "#ast.literal_eval() will evaluate the string and make a data structure for the same\n",
    "#here the input is a list since input is in '[...]', so ast.literal_eval() will\n",
    "#make a list with the same data as passed\n",
    "input_list = ast.literal_eval(input_str)\n",
    "\n",
    "#the data or the two values in list is now changed to separate variables\n",
    "day_of_the_week = input_list[0] #first element is an integer denoting the day of the week\n",
    "is_on_vacation = input_list[1] #this is a boolean denoting if its vacation or not\n",
    "\n",
    "# write your code here\n",
    "def set_auto_alram(day_of_the_week,is_on_vacation):\n",
    "    weeekend = [6,7]\n",
    "    if is_on_vacation:\n",
    "        if day_of_the_week in weeekend:\n",
    "            return 'off'\n",
    "        else:\n",
    "            return '10:00'\n",
    "    else:\n",
    "        if day_of_the_week in weeekend:\n",
    "            return '10:00'\n",
    "        else:\n",
    "            return '7:00'\n",
    "\n",
    "print(set_auto_alram(day_of_the_week,is_on_vacation))\n",
    "        \n"
   ]
  },
  {
   "cell_type": "code",
   "execution_count": null,
   "metadata": {},
   "outputs": [],
   "source": []
  }
 ],
 "metadata": {
  "kernelspec": {
   "display_name": "Python 3",
   "language": "python",
   "name": "python3"
  },
  "language_info": {
   "codemirror_mode": {
    "name": "ipython",
    "version": 3
   },
   "file_extension": ".py",
   "mimetype": "text/x-python",
   "name": "python",
   "nbconvert_exporter": "python",
   "pygments_lexer": "ipython3",
   "version": "3.7.6"
  }
 },
 "nbformat": 4,
 "nbformat_minor": 4
}
