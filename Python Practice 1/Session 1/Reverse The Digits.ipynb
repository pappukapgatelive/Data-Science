{
 "cells": [
  {
   "cell_type": "markdown",
   "metadata": {},
   "source": [
    "# Reverse The Digits\n",
    "\n",
    "Until now, we saw how to use loops and conditionals. Let's now move a step further and solve a tougher problem. Here you will reverse a number.\n",
    "\n",
    " \n",
    "\n",
    "Given a number, say 24312, you have to reverse it and print it, 21342. (hint: you will find % and // operators useful here). Can you try making a flow diagram and then converting it to code?"
   ]
  },
  {
   "cell_type": "markdown",
   "metadata": {},
   "source": [
    "## Reverse The Digits Program\n",
    "\n",
    "Description\n",
    "\n",
    "You will be given a number. You have to reverse the digits of the number and print it.\n",
    "\n",
    "----------------------------------------------------------------------\n",
    "\n",
    "Input:\n",
    "\n",
    "A positive integer greater than zero\n",
    "\n",
    "\n",
    "Output:\n",
    "\n",
    "The number in reverse order. Check sample outputs for more details.\n",
    "\n",
    "----------------------------------------------------------------------\n",
    "\n",
    "Sample input:\n",
    "\n",
    "345200\n",
    "\n",
    "Sample output:\n",
    "\n",
    "2543\n",
    "\n",
    "----------------------------------------------------------------------\n",
    "\n",
    "Sample input:\n",
    "\n",
    "6752343\n",
    "\n",
    "Sample output:\n",
    "\n",
    "3432576"
   ]
  },
  {
   "cell_type": "code",
   "execution_count": 1,
   "metadata": {},
   "outputs": [
    {
     "name": "stdout",
     "output_type": "stream",
     "text": [
      "3452\n",
      "2543\n"
     ]
    }
   ],
   "source": [
    "#take input of the number here\n",
    "n = int(input())\n",
    "\n",
    "#write code to reverse the number here\n",
    "r= 0\n",
    "while(n>0):\n",
    "    r = r*10 + n%10\n",
    "    n = n//10\n",
    "    \n",
    "\n",
    "print(r)\n",
    "\n"
   ]
  }
 ],
 "metadata": {
  "kernelspec": {
   "display_name": "Python 3",
   "language": "python",
   "name": "python3"
  },
  "language_info": {
   "codemirror_mode": {
    "name": "ipython",
    "version": 3
   },
   "file_extension": ".py",
   "mimetype": "text/x-python",
   "name": "python",
   "nbconvert_exporter": "python",
   "pygments_lexer": "ipython3",
   "version": "3.7.6"
  }
 },
 "nbformat": 4,
 "nbformat_minor": 4
}
