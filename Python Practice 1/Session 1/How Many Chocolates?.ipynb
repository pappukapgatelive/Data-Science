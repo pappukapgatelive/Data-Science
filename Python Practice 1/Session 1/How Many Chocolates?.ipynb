{
 "cells": [
  {
   "cell_type": "markdown",
   "metadata": {},
   "source": [
    "# How Many Chocolates?\n",
    "\n",
    "This question is actually a puzzle that some of you must have solved as a kid. Let's say you have m Rupees and one chocolate costs rupees c. The shopkeeper will give you a bar of chocolate for free if you give him 3 wrappers. Can you determine how many chocolates can you get with the m Rupees you have?"
   ]
  },
  {
   "cell_type": "markdown",
   "metadata": {},
   "source": [
    "## How Many Chocolates? Program\n",
    "\n",
    "Description\n",
    "\n",
    "Sanjay loves chocolates. He goes to a shop to buy his favourite chocolate. There he notices there is an offer going on, upon bringing 3 wrappers of the same chocolate, you will get new chocolate for free. If Sanjay has m Rupees. How many chocolates will he be able to eat if each chocolate costs c Rupees?\n",
    "\n",
    "----------------------------------------------------------------------\n",
    "\n",
    "Input:\n",
    "\n",
    "Two positive integers m and c separated by a comma. The first integer is m and the second integer is c \n",
    "\n",
    "Output:\n",
    "\n",
    "A single integer denoting the number of chocolates Sanjay was able to eat in total.\n",
    "\n",
    "----------------------------------------------------------------------\n",
    "\n",
    "Sample input:\n",
    "\n",
    "15, 2\n",
    "\n",
    "Sample output:\n",
    "\n",
    "10\n",
    "\n",
    "Explanation:\n",
    "\n",
    "First, he will get 15/2=7 chocolates. He then will return 6 wrappers for 2 chocolates. And lastly, these two wrappers and the one he previously had will get him one more chocolate, making a total of 7+2+1=10 chocolates.\n",
    "\n",
    "----------------------------------------------------------------------\n",
    "\n",
    "Sample input:\n",
    "\n",
    "3,1\n",
    "\n",
    "Sample output:\n",
    "\n",
    "4"
   ]
  },
  {
   "cell_type": "code",
   "execution_count": 1,
   "metadata": {},
   "outputs": [
    {
     "name": "stdout",
     "output_type": "stream",
     "text": [
      "3,1\n",
      "4\n"
     ]
    }
   ],
   "source": [
    "#take input here\n",
    "mystring = input()\n",
    "mylist = mystring.split(',')\n",
    "\n",
    "m = int(mylist[0])\n",
    "c = int(mylist[1])\n",
    "\n",
    "#start writing your code here\n",
    "\n",
    "choc = m//c\n",
    "w = m//c\n",
    "\n",
    "while w//3!=0:\n",
    "    choc = choc + w//3\n",
    "    w = w//3 + w%3\n",
    "    \n",
    "\n",
    "    \n",
    "\n",
    "\n",
    "#dont forget to print the number of chocolates Sanjay can eat\n",
    "print(choc)\n",
    "\n",
    "\n",
    "\n"
   ]
  },
  {
   "cell_type": "markdown",
   "metadata": {},
   "source": [
    "The first takeaway from the segment is that you should always break the problem into a smaller one.\n",
    "\n",
    " \n",
    "\n",
    "Suppose you were to write a more generalised code, instead of one chocolate for 3 wrappers, there was also a variable taken via input called r, i.e., instead of getting a chocolate for 3 wrappers, you now get it for 'r' wrappers. Now if you were to write a code for m, c and r,  that doesn't seem like a big problem now does it?\n",
    "\n",
    " \n",
    "\n",
    "Well, that is simply because you broke down a simpler problem with r=3 and then solved it by further breaking it down.\n",
    "\n",
    " \n",
    "\n",
    "This is a common practice in the industry. You first start with a very easy and simple problem, solve that and then build upon it. After doing this several times, building on the existing code or product to improve it is how you end up with a worthy end product."
   ]
  }
 ],
 "metadata": {
  "kernelspec": {
   "display_name": "Python 3",
   "language": "python",
   "name": "python3"
  },
  "language_info": {
   "codemirror_mode": {
    "name": "ipython",
    "version": 3
   },
   "file_extension": ".py",
   "mimetype": "text/x-python",
   "name": "python",
   "nbconvert_exporter": "python",
   "pygments_lexer": "ipython3",
   "version": "3.7.6"
  }
 },
 "nbformat": 4,
 "nbformat_minor": 4
}
