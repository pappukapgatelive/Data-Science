{
 "cells": [
  {
   "cell_type": "markdown",
   "metadata": {},
   "source": [
    "# Practice Questions - II"
   ]
  },
  {
   "cell_type": "markdown",
   "metadata": {},
   "source": [
    "# 1 "
   ]
  },
  {
   "cell_type": "markdown",
   "metadata": {},
   "source": [
    "## Armstrong number Program\n",
    "\n",
    "Description\n",
    "\n",
    "Any number, say n is called an Armstrong number if it is equal to the sum of its digits, where each is raised to the power of number of digits in n.\n",
    "\n",
    "For example:\n",
    "\n",
    "153=13+53+33\n",
    "\n",
    "Write Python code to determine whether an entered three digit number is an Armstrong number or not. \n",
    "\n",
    "Assume that the number entered will strictly be a three digit number.\n",
    "\n",
    "Print \"True\" if it is an Armstrong number and print \"False\" if it is not.\n",
    "\n",
    "Sample Input:\n",
    "\n",
    "153\n",
    "\n",
    "Sample Output:\n",
    "\n",
    "True"
   ]
  },
  {
   "cell_type": "code",
   "execution_count": 1,
   "metadata": {},
   "outputs": [
    {
     "name": "stdout",
     "output_type": "stream",
     "text": [
      "153\n",
      "True\n"
     ]
    }
   ],
   "source": [
    "\"\"\"\n",
    "n=int(input())\n",
    "\n",
    "temp = n\n",
    "sum1 = 0\n",
    "while temp>0:\n",
    "    digit = temp%10\n",
    "    sum1 += digit**3\n",
    "    temp //= 10\n",
    "\n",
    "if(num == sum1):\n",
    "    print(\"True\")\n",
    "else:\n",
    "    print(\"False\")\n",
    "    \n",
    "\"\"\"\n",
    "\n",
    "n = input()\n",
    "\n",
    "sum1 = 0\n",
    "\n",
    "\n",
    "for i in range(0,len(n)):\n",
    "    digit = int(n[i]) **3\n",
    "    sum1 += digit\n",
    "    \n",
    "if(int(n) == sum1):\n",
    "    print(\"True\")\n",
    "else:\n",
    "    print(\"False\")"
   ]
  },
  {
   "cell_type": "markdown",
   "metadata": {},
   "source": [
    "# 2"
   ]
  },
  {
   "cell_type": "markdown",
   "metadata": {},
   "source": [
    "## Fibonacci Series Program\n",
    "\n",
    "Description\n",
    "\n",
    "Compute and display Fibonacci series upto n terms where n is a positive integer entered by the user.\n",
    "\n",
    "You can go here to read about Fibonacci series.\n",
    "\n",
    "Sample Input:\n",
    "\n",
    "5\n",
    "\n",
    "Sample Output:\n",
    "\n",
    "0\n",
    "\n",
    "1\n",
    "\n",
    "1\n",
    "\n",
    "2\n",
    "\n",
    "3\n"
   ]
  },
  {
   "cell_type": "code",
   "execution_count": 2,
   "metadata": {},
   "outputs": [
    {
     "name": "stdout",
     "output_type": "stream",
     "text": [
      "3\n",
      "0\n",
      "1\n",
      "1\n"
     ]
    }
   ],
   "source": [
    "n=int(input())\n",
    "#write your code here\n",
    "\n",
    "def recurfibo(n):\n",
    "   if n <= 1:\n",
    "       return n\n",
    "   else:\n",
    "       return(recurfibo(n-1) + recurfibo(n-2))\n",
    "\n",
    " \n",
    "\n",
    "# check if the number of terms is valid\n",
    "\n",
    "for i in range(n):\n",
    "    print(recurfibo(i))"
   ]
  },
  {
   "cell_type": "markdown",
   "metadata": {},
   "source": [
    "# 3"
   ]
  },
  {
   "cell_type": "markdown",
   "metadata": {},
   "source": [
    "## Sum of Primes Program\n",
    "\n",
    "Description\n",
    "\n",
    "Write python code to find the sum of prime numbers from 2 to n where n is a positive integer entered by the user.\n",
    "\n",
    "Note: n can be non-prime or prime. You have to find sum of primes till n and not sum of n prime numbers. i.e. for \n",
    "input 10, output should be 17.\n",
    "\n",
    "Hint: You can try using lambda functions and comprehensions to reduce the lines of code you have to write.\n",
    "\n",
    "\n",
    "\n",
    "Input: A positive integer n.\n",
    "\n",
    "Output: A integer denoting the sum of primes less than or equal to n\n",
    "\n",
    "\n",
    "\n",
    "Sample Input:\n",
    "\n",
    "5\n",
    "\n",
    "Sample Output:\n",
    "\n",
    "10"
   ]
  },
  {
   "cell_type": "code",
   "execution_count": 3,
   "metadata": {},
   "outputs": [
    {
     "name": "stdout",
     "output_type": "stream",
     "text": [
      "5\n",
      "10\n"
     ]
    }
   ],
   "source": [
    "n=int(input())#find the sum of primes from 2 to n \n",
    "temp = 2\n",
    "for num in range(2, n+1):  \n",
    "   if num > 1:  \n",
    "       for i in range(2,num):  \n",
    "           if (num % i) == 0:\n",
    "               break\n",
    "           \n",
    "           else:\n",
    "               if temp <= n:\n",
    "                   temp+=num\n",
    "print(temp)"
   ]
  },
  {
   "cell_type": "markdown",
   "metadata": {},
   "source": [
    "# 4"
   ]
  },
  {
   "cell_type": "markdown",
   "metadata": {},
   "source": [
    "Generalised Chocolate\n",
    "Description\n",
    "Earlier you solved the chocolate problem where Sanjay had m rupees and cost of each chocolate was c rupees. Shopkeeper gave away one chocolate for three wrappers. In this problem lets generalise the question saying, Sanjay has m rupees, each chocolate costs c rupees, shopkeeper will give away k chocolates for w wrappers. Can you find now how many chocolates Sanjay will be able to eat?\n",
    "\n",
    "\n",
    "\n",
    "\n",
    "\n",
    "Input: 4 integers separated by space in order m c w k\n",
    "\n",
    "integers c and w will be >0\n",
    "\n",
    "integers m and k will be >=0\n",
    "\n",
    "integer k will be < w\n",
    "\n",
    "\n",
    "\n",
    "Output: An integer denoting number of chocolates Sanjay will be able to get.\n",
    "\n",
    "\n",
    "\n",
    "\n",
    "\n",
    "Sample input:\n",
    "\n",
    "15, 2, 3, 1\n",
    "\n",
    "\n",
    "\n",
    "Sample output:\n",
    "\n",
    "10\n",
    "\n",
    "\n",
    "\n",
    "Explanation:\n",
    "\n",
    "Sanjay has 15 rupees, buys 7 chocolates for 2 rupees each.\n",
    "\n",
    "Sanjay now has 7 wrappers, exchanges 6 of them for 2 more chocolates.\n",
    "\n",
    "Sanjay now has 3 wrappers and exchanges them for 1 more chocolate making a total of 10 chocolates\n",
    "\n",
    "\n",
    "\n",
    "Sample input:\n",
    "\n",
    "15, 2, 3, 2\n",
    "\n",
    "\n",
    "\n",
    "Sample output:\n",
    "\n",
    "17\n",
    "\n",
    "\n",
    "\n",
    "Explanation:\n",
    "\n",
    "Sanjay has 15 rupees, buys 7 chocolates for 2 rupees each.\n",
    "\n",
    "Sanjay now has 7 wrappers, exchanges 6 of them for 4 more chocolates.\n",
    "\n",
    "Sanjay now has 5 wrappers and exchanges 3 of them for 2 more chocolates.\n",
    "\n",
    "Sanjay now has 4 wrappers and exchanges 3 of them for 2 more chocolates.\n",
    "\n",
    "Sanjay now has 3 wrappers and exchanges them for 2 chocolates making a total of 17 chocolates.\n",
    "\n"
   ]
  },
  {
   "cell_type": "code",
   "execution_count": 4,
   "metadata": {},
   "outputs": [
    {
     "name": "stdout",
     "output_type": "stream",
     "text": [
      "15, 2, 3, 1\n",
      "10\n"
     ]
    }
   ],
   "source": [
    "#take input here\n",
    "mystring = input()\n",
    "mylist = mystring.split(',')\n",
    "\n",
    "m = int(mylist[0])\n",
    "c = int(mylist[1])\n",
    "w_v = int(mylist[2])\n",
    "k = int(mylist[3])\n",
    "\n",
    "#start writing your code here\n",
    "choc = m//c\n",
    "w = m//c\n",
    "\n",
    "while w// w_v != 0:\n",
    "    choc = choc + ((w//w_v)*k)\n",
    "    w = ((w//w_v)*k) + (w%w_v)\n",
    "\n",
    "print(choc)\n",
    "\n",
    " \n",
    "#dont forget to print the number of chocolates Sanjay can eat"
   ]
  },
  {
   "cell_type": "code",
   "execution_count": null,
   "metadata": {},
   "outputs": [],
   "source": []
  }
 ],
 "metadata": {
  "kernelspec": {
   "display_name": "Python 3",
   "language": "python",
   "name": "python3"
  },
  "language_info": {
   "codemirror_mode": {
    "name": "ipython",
    "version": 3
   },
   "file_extension": ".py",
   "mimetype": "text/x-python",
   "name": "python",
   "nbconvert_exporter": "python",
   "pygments_lexer": "ipython3",
   "version": "3.7.6"
  }
 },
 "nbformat": 4,
 "nbformat_minor": 4
}
