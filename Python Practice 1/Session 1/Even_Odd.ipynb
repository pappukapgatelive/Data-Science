{
 "cells": [
  {
   "cell_type": "markdown",
   "metadata": {},
   "source": [
    "## Even Or Odd\n",
    "\n",
    "Description\n",
    "\n",
    "Given an integer, print whether it is Even or Odd.\n",
    "\n",
    "----------------------------------------------------------------------\n",
    "----------------------------------------------------------------------\n",
    "\n",
    "Input:\n",
    "\n",
    "An integer\n",
    "\n",
    "Output:\n",
    "\n",
    "'Even' or 'Odd'\n",
    "\n",
    "----------------------------------------------------------------------\n",
    "----------------------------------------------------------------------\n",
    "\n",
    "Sample input:\n",
    "\n",
    "3\n",
    "\n",
    "Sample output:\n",
    "\n",
    "Odd\n",
    "\n",
    "----------------------------------------------------------------------\n",
    "----------------------------------------------------------------------\n",
    "\n",
    "Sample input:\n",
    "\n",
    "6\n",
    "\n",
    "Sample output:\n",
    "\n",
    "Even"
   ]
  },
  {
   "cell_type": "code",
   "execution_count": 2,
   "metadata": {},
   "outputs": [
    {
     "name": "stdout",
     "output_type": "stream",
     "text": [
      "3\n",
      "Odd\n"
     ]
    }
   ],
   "source": [
    "#Take input on your own\n",
    "num= int(input())\n",
    "\n",
    "#start writing your code from here\n",
    "if(num%2==0):\n",
    "    print(\"Even\")\n",
    "    \n",
    "else:\n",
    "    print(\"Odd\")\n"
   ]
  },
  {
   "cell_type": "markdown",
   "metadata": {},
   "source": [
    "## Beautiful Pretty Sexy\n",
    "\n",
    "Description\n",
    "\n",
    "A number k is beautiful if it is of the form 3n+1, is pretty if it is of the form 3n+2 and is sexy if it is of \n",
    "\n",
    "form 3n.\n",
    "\n",
    "Given a number k, print if it is beautiful, pretty or sexy.\n",
    "\n",
    "Sample input:\n",
    "\n",
    "21\n",
    "\n",
    "Sample output:\n",
    "\n",
    "sexy\n",
    "\n",
    "Sample input:\n",
    "\n",
    "22\n",
    "\n",
    "Sample output:\n",
    "\n",
    "beautiful\n",
    "\n",
    "Sample input:\n",
    "\n",
    "23\n",
    "\n",
    "Sample output:\n",
    "\n",
    "pretty"
   ]
  },
  {
   "cell_type": "code",
   "execution_count": 3,
   "metadata": {},
   "outputs": [
    {
     "name": "stdout",
     "output_type": "stream",
     "text": [
      "21\n",
      "sexy\n"
     ]
    }
   ],
   "source": [
    "#input has been taken for you\n",
    "\n",
    "k=int(input())\n",
    "\n",
    "#check if the number is beautiful, pretty or sexy\n",
    "if(k%2 == 0):\n",
    "    if(k%3==0):\n",
    "        print('sexy')\n",
    "    else:\n",
    "        print('beautiful')\n",
    "else:\n",
    "    if(k%3 == 0):\n",
    "        print('sexy')\n",
    "    else:\n",
    "        print('pretty')"
   ]
  },
  {
   "cell_type": "code",
   "execution_count": null,
   "metadata": {},
   "outputs": [],
   "source": []
  }
 ],
 "metadata": {
  "kernelspec": {
   "display_name": "Python 3",
   "language": "python",
   "name": "python3"
  },
  "language_info": {
   "codemirror_mode": {
    "name": "ipython",
    "version": 3
   },
   "file_extension": ".py",
   "mimetype": "text/x-python",
   "name": "python",
   "nbconvert_exporter": "python",
   "pygments_lexer": "ipython3",
   "version": "3.7.6"
  }
 },
 "nbformat": 4,
 "nbformat_minor": 4
}
