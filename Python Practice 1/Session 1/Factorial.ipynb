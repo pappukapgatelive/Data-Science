{
 "cells": [
  {
   "cell_type": "markdown",
   "metadata": {},
   "source": [
    "# Factorial\n",
    "The next problem is to find the factorial of a number. A factorial is defined for integers greater than or equal to zero and is defined as:\n",
    "\n",
    "\n",
    "\n",
    "\n",
    "n\n",
    "!\n",
    "=\n",
    "1\n",
    "×\n",
    "2\n",
    "×\n",
    "3\n",
    "×\n",
    "4\n",
    "×\n",
    "5\n",
    ".\n",
    ".\n",
    ".\n",
    "×\n",
    "n\n",
    "\n",
    " \n",
    "\n",
    "Now, if you need to find the factorial of a number 'n', you just need to multiply 1 with 2, then the result with 3, succeeded with a multiplication with 4 and so on until 'n'. Sounds like this question needs to be done using a loop. So given a number n, can you find n!? "
   ]
  },
  {
   "cell_type": "markdown",
   "metadata": {},
   "source": [
    "## Factorial Program\n",
    "Description\n",
    "Factorial is a mathematical function denoted by '!'. It is defined as\n",
    "\n",
    "n factorial = n!= 1*2*3...*(n-1)*n\n",
    "\n",
    "In this question, you have to make a function that will take an integer as input, and return the factorial of that integer if that integer is greater than or equal to zero and return -1 if the number is less than zero or negative.\n",
    "\n",
    "Note: the function doesn't return print the factorial but returns it.\n",
    "----------------------------------------------------------------------\n",
    "\n",
    "Input:\n",
    "\n",
    "An integer n\n",
    "\n",
    "Output:\n",
    "\n",
    "The function returns n! if n is greater than or equal to 0.\n",
    "\n",
    "0! = 1\n",
    "\n",
    "and the function returns -1 if the number is less than 0.\n",
    "\n",
    "----------------------------------------------------------------------\n",
    "\n",
    "Sample input:\n",
    "\n",
    "3\n",
    "\n",
    "Sample output:\n",
    "\n",
    "6\n",
    "\n",
    "----------------------------------------------------------------------\n",
    "\n",
    "Sample input:\n",
    "\n",
    "-4\n",
    "\n",
    "Sample output:\n",
    "\n",
    "-1"
   ]
  },
  {
   "cell_type": "code",
   "execution_count": 1,
   "metadata": {},
   "outputs": [
    {
     "name": "stdout",
     "output_type": "stream",
     "text": [
      "3\n",
      "6\n"
     ]
    }
   ],
   "source": [
    "#take the input here\n",
    "number= int(input())\n",
    "\n",
    "\n",
    "\n",
    "#the function definition starts here\n",
    "def factorial(n):\n",
    "    #write the funtion here that finds and RETURNS factorial of next\n",
    "    fact = 1\n",
    "    if (n<0):\n",
    "        return -1\n",
    "    else:\n",
    "        if (n in [0,1]):\n",
    "            return 1\n",
    "        else:\n",
    "            for i in range(1,n+1):\n",
    "                if(i<=n):\n",
    "                    fact = fact*i\n",
    "        return fact\n",
    "    \n",
    "\n",
    "\n",
    "#function definition ends here\n",
    "\n",
    "#do not alter the code typed below\n",
    "k=factorial(number)\n",
    "print(k)"
   ]
  },
  {
   "cell_type": "code",
   "execution_count": null,
   "metadata": {},
   "outputs": [],
   "source": []
  }
 ],
 "metadata": {
  "kernelspec": {
   "display_name": "Python 3",
   "language": "python",
   "name": "python3"
  },
  "language_info": {
   "codemirror_mode": {
    "name": "ipython",
    "version": 3
   },
   "file_extension": ".py",
   "mimetype": "text/x-python",
   "name": "python",
   "nbconvert_exporter": "python",
   "pygments_lexer": "ipython3",
   "version": "3.7.6"
  }
 },
 "nbformat": 4,
 "nbformat_minor": 4
}
