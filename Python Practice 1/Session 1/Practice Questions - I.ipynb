{
 "cells": [
  {
   "cell_type": "markdown",
   "metadata": {},
   "source": [
    "# Practice Questions - I"
   ]
  },
  {
   "cell_type": "markdown",
   "metadata": {},
   "source": [
    "## Alphabetic patterns Program\n",
    "\n",
    "Description\n",
    "Given a positive integer 'n' less than or equal to 26, you are required to print the below pattern \n",
    " \n",
    "Sample Input: 5 \n",
    " \n",
    "Sample Output : \n",
    "--------e-------- \n",
    "------e-d-e------ \n",
    "----e-d-c-d-e---- \n",
    "--e-d-c-b-c-d-e-- \n",
    "e-d-c-b-a-b-c-d-e \n",
    "--e-d-c-b-c-d-e-- \n",
    "----e-d-c-d-e---- \n",
    "------e-d-e------ \n",
    "--------e-------- \n",
    " \n",
    "Sample Input  : 3 \n",
    " \n",
    "Sample Output : \n",
    "----c---- \n",
    "--c-b-c-- \n",
    "c-b-a-b-c \n",
    "--c-b-c-- \n",
    "----c----\n",
    "\n",
    "Please note that this question was asked in a Data Scientist interview."
   ]
  },
  {
   "cell_type": "code",
   "execution_count": 1,
   "metadata": {},
   "outputs": [
    {
     "name": "stdout",
     "output_type": "stream",
     "text": [
      "6\n",
      "----------f----------\n",
      "--------f-e-f--------\n",
      "------f-e-d-e-f------\n",
      "----f-e-d-c-d-e-f----\n",
      "--f-e-d-c-b-c-d-e-f--\n",
      "f-e-d-c-b-a-b-c-d-e-f\n",
      "--f-e-d-c-b-c-d-e-f--\n",
      "----f-e-d-c-d-e-f----\n",
      "------f-e-d-e-f------\n",
      "--------f-e-f--------\n",
      "----------f----------\n"
     ]
    }
   ],
   "source": [
    "\n",
    "n = int(input())\n",
    "\n",
    "# Write your code below\n",
    "alpha = \"abcdefghijklmnopqrstuvwxyz\"\n",
    "data = [alpha[i] for i in range(n)]\n",
    "items = list(range(n))\n",
    "items = items[:-1]+items[::-1]\n",
    "for i in items:\n",
    "    temp = data[-(i+1):]\n",
    "    row = temp[::-1]+temp[1:]\n",
    "    print(\"-\".join(row).center(n*4-3, \"-\"))"
   ]
  },
  {
   "cell_type": "code",
   "execution_count": null,
   "metadata": {},
   "outputs": [],
   "source": []
  }
 ],
 "metadata": {
  "kernelspec": {
   "display_name": "Python 3",
   "language": "python",
   "name": "python3"
  },
  "language_info": {
   "codemirror_mode": {
    "name": "ipython",
    "version": 3
   },
   "file_extension": ".py",
   "mimetype": "text/x-python",
   "name": "python",
   "nbconvert_exporter": "python",
   "pygments_lexer": "ipython3",
   "version": "3.7.6"
  }
 },
 "nbformat": 4,
 "nbformat_minor": 4
}
