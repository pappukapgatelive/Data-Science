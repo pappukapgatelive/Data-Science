{
 "cells": [
  {
   "cell_type": "markdown",
   "metadata": {},
   "source": [
    "# Smallest Element\n",
    "\n",
    "Let's start with a very basic simple question of finding the smallest or minimum element from the given list of integers. You will be using these type of codes like finding the minimum, average, maximum, median, and a lot more when dealing with new data"
   ]
  },
  {
   "cell_type": "markdown",
   "metadata": {},
   "source": [
    "you can read more about min() functionality of python https://docs.python.org/3/library/functions.html#min. Other important Python inbuilt functions can be found https://docs.python.org/3/library/functions.html. It is always better to use these than to write code that performs the same action. However, the aim of this question is to develop a coding intuition and help you understand the working of these inbuilt functions."
   ]
  },
  {
   "cell_type": "markdown",
   "metadata": {},
   "source": [
    "# Smallest Element Program\n",
    "\n",
    "Description\n",
    "\n",
    "You have to find and print the smallest element of the list given as input. \n",
    "\n",
    "----------------------------------------------------------------------\n",
    "\n",
    "Input:\n",
    "\n",
    "A non-empty list of integers.\n",
    "\n",
    "Output:\n",
    "\n",
    "The smallest integer of the input list.\n",
    "\n",
    "----------------------------------------------------------------------\n",
    "\n",
    "Sample input:\n",
    "\n",
    "[2, -3, 0, 7, 21]\n",
    "\n",
    "Sample output:\n",
    "\n",
    "-3\n"
   ]
  },
  {
   "cell_type": "code",
   "execution_count": 2,
   "metadata": {},
   "outputs": [
    {
     "name": "stdout",
     "output_type": "stream",
     "text": [
      "[2, -3, 0, 7, 21]\n",
      "-3\n"
     ]
    }
   ],
   "source": [
    "#input have been taken for you here\n",
    "import ast\n",
    "input_str = input()\n",
    "input_list = ast.literal_eval(input_str)\n",
    "#print(min(input_list))\n",
    "#start writing your code here\n",
    "if len(input_list)==0:\n",
    "    print(\"no minimum\")\n",
    "else:\n",
    "    temp = input_list[0]\n",
    "    for items in input_list:\n",
    "        if items < temp:\n",
    "            temp = items;\n",
    "    print(temp)\n",
    "\n"
   ]
  },
  {
   "cell_type": "code",
   "execution_count": null,
   "metadata": {},
   "outputs": [],
   "source": []
  },
  {
   "cell_type": "code",
   "execution_count": null,
   "metadata": {},
   "outputs": [],
   "source": []
  }
 ],
 "metadata": {
  "kernelspec": {
   "display_name": "Python 3",
   "language": "python",
   "name": "python3"
  },
  "language_info": {
   "codemirror_mode": {
    "name": "ipython",
    "version": 3
   },
   "file_extension": ".py",
   "mimetype": "text/x-python",
   "name": "python",
   "nbconvert_exporter": "python",
   "pygments_lexer": "ipython3",
   "version": "3.7.6"
  }
 },
 "nbformat": 4,
 "nbformat_minor": 4
}
