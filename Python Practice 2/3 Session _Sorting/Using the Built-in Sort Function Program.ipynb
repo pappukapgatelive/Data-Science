{
 "cells": [
  {
   "cell_type": "markdown",
   "metadata": {},
   "source": [
    "# Using the Built-in Sort Function Program\n",
    "Description\n",
    "Sort a list of strings according to their length, with the smallest string appearing first.\n",
    "Hint: Use the appropriate ‘key’ in the sorted() function. If two strings are of the same length then their order — as in the original string — should be preserved.\n",
    "\n",
    "Example:\n",
    "\n",
    "Input 1:\n",
    "\n",
    "[‘I’, ‘love’, ‘to’, ‘code’, ‘in’, ‘Python’]\n",
    "\n",
    "Output 1:\n",
    "\n",
    "[‘I’, ‘to’, ‘in’, ‘love’, ‘code’, ‘Python’]\n"
   ]
  },
  {
   "cell_type": "code",
   "execution_count": 2,
   "metadata": {},
   "outputs": [
    {
     "name": "stdout",
     "output_type": "stream",
     "text": [
      "['I', 'love', 'to', 'code', 'in', 'Python']\n",
      "['I', 'to', 'in', 'love', 'code', 'Python']\n"
     ]
    }
   ],
   "source": [
    "# Read the input\n",
    "import ast\n",
    "input_list = ast.literal_eval(input())\n",
    "\n",
    "# Write your code here\n",
    "\n",
    "def func(x):\n",
    "     return len(x)\n",
    "     \n",
    "s = sorted(input_list,key=func)\n",
    "print(s)"
   ]
  }
 ],
 "metadata": {
  "kernelspec": {
   "display_name": "Python 3",
   "language": "python",
   "name": "python3"
  },
  "language_info": {
   "codemirror_mode": {
    "name": "ipython",
    "version": 3
   },
   "file_extension": ".py",
   "mimetype": "text/x-python",
   "name": "python",
   "nbconvert_exporter": "python",
   "pygments_lexer": "ipython3",
   "version": "3.7.6"
  }
 },
 "nbformat": 4,
 "nbformat_minor": 4
}
