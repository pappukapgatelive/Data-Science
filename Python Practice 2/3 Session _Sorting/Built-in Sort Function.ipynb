{
 "cells": [
  {
   "cell_type": "markdown",
   "metadata": {},
   "source": [
    "# Built-in Sort Function\n",
    "\n",
    "What will be the output of the following code?\n",
    "\n",
    "def func(x):\n",
    "\n",
    "     return x % 10\n",
    "\n",
    "L = [15, 20, 5, 29, 10]\n",
    "\n",
    "sorted(L, key = func)"
   ]
  },
  {
   "cell_type": "code",
   "execution_count": 2,
   "metadata": {},
   "outputs": [
    {
     "data": {
      "text/plain": [
       "[20, 10, 15, 5, 29]"
      ]
     },
     "execution_count": 2,
     "metadata": {},
     "output_type": "execute_result"
    }
   ],
   "source": [
    "def func(x):\n",
    "\n",
    "     return x % 10\n",
    "\n",
    "L = [15, 20, 5, 29, 10]\n",
    "\n",
    "sorted(L, key = func)"
   ]
  },
  {
   "cell_type": "markdown",
   "metadata": {},
   "source": [
    "### Explanation:\n",
    "\n",
    "The 'key' argument in sorted() provides the function on the basis of which the sort operation has to be performed. Here, the function is x%10, which means that the elements whose remainder is lesser when divided by 10 would be placed before. The elements for which the remainder is the same would maintain the same order as in the original list, by default. Hence, 20 comes before 10 and 15 comes before 5."
   ]
  }
 ],
 "metadata": {
  "kernelspec": {
   "display_name": "Python 3",
   "language": "python",
   "name": "python3"
  },
  "language_info": {
   "codemirror_mode": {
    "name": "ipython",
    "version": 3
   },
   "file_extension": ".py",
   "mimetype": "text/x-python",
   "name": "python",
   "nbconvert_exporter": "python",
   "pygments_lexer": "ipython3",
   "version": "3.7.6"
  }
 },
 "nbformat": 4,
 "nbformat_minor": 4
}
