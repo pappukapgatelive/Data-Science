{
 "cells": [
  {
   "cell_type": "markdown",
   "metadata": {},
   "source": [
    "# Custom Sort Program\n",
    "\n",
    "Description\n",
    "\n",
    "Sort a list of integers basis the remainder they leave when divided by 5 in an ascending order, i.e. the number that leaves a lower remainder when divided by 5 should come before the number which leaves a higher remainder.\n",
    "\n",
    "Hint: Use the appropriate ‘key’ in the sorted() function. If two integers leave the same remainder then their order — as in the original list — should be preserved.\n",
    "\n",
    "Examples:\n",
    "\n",
    "Input 1:\n",
    "\n",
    "[1, 9, 35, 12, 13, 21, 10]\n",
    "\n",
    "Output 1:\n",
    "\n",
    "[35, 10, 1, 21, 12, 13, 9]"
   ]
  },
  {
   "cell_type": "code",
   "execution_count": 1,
   "metadata": {},
   "outputs": [
    {
     "name": "stdout",
     "output_type": "stream",
     "text": [
      "[1, 9, 35, 12, 13, 21, 10]\n",
      "[35, 10, 1, 21, 12, 13, 9]\n"
     ]
    }
   ],
   "source": [
    "# Read the input\n",
    "import ast\n",
    "input_list = ast.literal_eval(input())\n",
    "\n",
    "# Write your code here\n",
    "def func(x):\n",
    "    return x%5\n",
    "    \n",
    "s = sorted(input_list,key=func)\n",
    "print(s)\n",
    "\n",
    "\n"
   ]
  }
 ],
 "metadata": {
  "kernelspec": {
   "display_name": "Python 3",
   "language": "python",
   "name": "python3"
  },
  "language_info": {
   "codemirror_mode": {
    "name": "ipython",
    "version": 3
   },
   "file_extension": ".py",
   "mimetype": "text/x-python",
   "name": "python",
   "nbconvert_exporter": "python",
   "pygments_lexer": "ipython3",
   "version": "3.7.6"
  }
 },
 "nbformat": 4,
 "nbformat_minor": 4
}
