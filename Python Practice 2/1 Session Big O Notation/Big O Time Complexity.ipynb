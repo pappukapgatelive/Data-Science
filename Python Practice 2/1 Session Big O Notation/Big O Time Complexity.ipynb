{
 "cells": [
  {
   "cell_type": "markdown",
   "metadata": {},
   "source": [
    "# Time Checking"
   ]
  },
  {
   "cell_type": "code",
   "execution_count": 3,
   "metadata": {},
   "outputs": [
    {
     "name": "stdout",
     "output_type": "stream",
     "text": [
      "10,20,80,60,90\n",
      "90\n",
      "4\n",
      "0.00047061500000000756\n"
     ]
    }
   ],
   "source": [
    "import time,ast \n",
    "mylist= ast.literal_eval(input()) #fill up the list with some integer values, as many as you want\n",
    "k= int(input()) #fill in this line too\n",
    "start = time.process_time() \n",
    "for i in range(len(mylist)):\n",
    "\tif mylist[i]==k:\n",
    "\t\tprint(i)\n",
    "print(time.process_time() - start)"
   ]
  },
  {
   "cell_type": "code",
   "execution_count": null,
   "metadata": {},
   "outputs": [],
   "source": []
  }
 ],
 "metadata": {
  "kernelspec": {
   "display_name": "Python 3",
   "language": "python",
   "name": "python3"
  },
  "language_info": {
   "codemirror_mode": {
    "name": "ipython",
    "version": 3
   },
   "file_extension": ".py",
   "mimetype": "text/x-python",
   "name": "python",
   "nbconvert_exporter": "python",
   "pygments_lexer": "ipython3",
   "version": "3.7.6"
  }
 },
 "nbformat": 4,
 "nbformat_minor": 4
}
