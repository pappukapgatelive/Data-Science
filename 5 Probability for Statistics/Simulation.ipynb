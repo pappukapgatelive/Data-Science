{
 "cells": [
  {
   "cell_type": "markdown",
   "metadata": {},
   "source": [
    "# Simulation in Python\n",
    "\n",
    "Use the pseudo random numbers in python to simulate distributions of large sets of data."
   ]
  },
  {
   "cell_type": "code",
   "execution_count": 1,
   "metadata": {},
   "outputs": [],
   "source": [
    "# Import required libraries:\n",
    "import numpy as np\n",
    "from scipy.stats import norm\n",
    "import matplotlib.pyplot as plt\n",
    "rng = np.random.default_rng()"
   ]
  },
  {
   "cell_type": "code",
   "execution_count": 2,
   "metadata": {},
   "outputs": [],
   "source": [
    "# Use the choice method to randomly select elements from a list:\n",
    "sample_means = []\n",
    "for _ in range(10000):\n",
    "    sample = rng.choice([1, 0], p=[0.7, 0.3], size=1000)\n",
    "    sample_means.append(np.mean(sample))"
   ]
  },
  {
   "cell_type": "code",
   "execution_count": 3,
   "metadata": {},
   "outputs": [
    {
     "data": {
      "text/plain": [
       "(array([  10.,    5.,   18.,   19.,   67.,   76.,  175.,  176.,  238.,\n",
       "         486.,  443.,  774.,  712., 1067.,  831.,  800., 1069.,  664.,\n",
       "         789.,  448.,  457.,  225.,  167.,  122.,   68.,   53.,   22.,\n",
       "          12.,    5.,    2.]),\n",
       " array([0.649     , 0.65243333, 0.65586667, 0.6593    , 0.66273333,\n",
       "        0.66616667, 0.6696    , 0.67303333, 0.67646667, 0.6799    ,\n",
       "        0.68333333, 0.68676667, 0.6902    , 0.69363333, 0.69706667,\n",
       "        0.7005    , 0.70393333, 0.70736667, 0.7108    , 0.71423333,\n",
       "        0.71766667, 0.7211    , 0.72453333, 0.72796667, 0.7314    ,\n",
       "        0.73483333, 0.73826667, 0.7417    , 0.74513333, 0.74856667,\n",
       "        0.752     ]),\n",
       " <a list of 30 Patch objects>)"
      ]
     },
     "execution_count": 3,
     "metadata": {},
     "output_type": "execute_result"
    },
    {
     "data": {
      "image/png": "[encoded data removed]",
      "text/plain": [
       "<Figure size 432x288 with 1 Axes>"
      ]
     },
     "metadata": {
      "needs_background": "light"
     },
     "output_type": "display_data"
    }
   ],
   "source": [
    "# Plot the histogram for the sample:\n",
    "plt.hist(sample_means, bins=30)"
   ]
  },
  {
   "cell_type": "code",
   "execution_count": 38,
   "metadata": {},
   "outputs": [],
   "source": [
    "# From central limit theorem, this should be roughly Gaussian with standard deviation = sqrt(p(1-p)/n)\n",
    "dist = norm(0.7, np.sqrt(0.7*0.3/1000))"
   ]
  },
  {
   "cell_type": "code",
   "execution_count": 40,
   "metadata": {},
   "outputs": [],
   "source": [
    "x = np.linspace(0.64, 0.76)\n",
    "y = dist.pdf(x)"
   ]
  },
  {
   "cell_type": "code",
   "execution_count": 41,
   "metadata": {},
   "outputs": [
    {
     "data": {
      "text/plain": [
       "[<matplotlib.lines.Line2D at 0x1d3d0c84580>]"
      ]
     },
     "execution_count": 41,
     "metadata": {},
     "output_type": "execute_result"
    },
    {
     "data": {
      "image/png": "[encoded data removed]",
      "text/plain": [
       "<Figure size 432x288 with 1 Axes>"
      ]
     },
     "metadata": {
      "needs_background": "light"
     },
     "output_type": "display_data"
    }
   ],
   "source": [
    "plt.plot(x, y)"
   ]
  }
 ],
 "metadata": {
  "kernelspec": {
   "display_name": "Python 3",
   "language": "python",
   "name": "python3"
  },
  "language_info": {
   "codemirror_mode": {
    "name": "ipython",
    "version": 3
   },
   "file_extension": ".py",
   "mimetype": "text/x-python",
   "name": "python",
   "nbconvert_exporter": "python",
   "pygments_lexer": "ipython3",
   "version": "3.7.6"
  }
 },
 "nbformat": 4,
 "nbformat_minor": 4
}
