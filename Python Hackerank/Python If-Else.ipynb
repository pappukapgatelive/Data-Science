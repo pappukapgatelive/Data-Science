{
 "cells": [
  {
   "cell_type": "markdown",
   "metadata": {},
   "source": [
    "## Python If-Else\n",
    "\n",
    "Task\n",
    "\n",
    "Given an integer, , perform the following conditional actions:\n",
    "\n",
    "* If is odd, print Weird\n",
    "\n",
    "* If is even and in the inclusive range of to , print Not Weird\n",
    "\n",
    "* If is even and in the inclusive range of to , print Weird\n",
    "\n",
    "* If is even and greater than , print Not Weird\n",
    "\n",
    "**Input Format**\n",
    "\n",
    "A single line containing a positive integer, .\n",
    "\n",
    "**Constraints**\n",
    "\n",
    "**Output Format**\n",
    "\n",
    "Print Weird if the number is weird. Otherwise, print Not Weird .\n",
    "\n",
    "**Sample Input 0**\n",
    "\n",
    "3\n",
    "\n",
    "**Sample Output 0**\n",
    "\n",
    "Weird\n",
    "\n",
    "* Explanation 0\n",
    "\n",
    "    is odd and odd numbers are weird, so print Weird .\n",
    "\n",
    "**Sample Input 1**\n",
    "\n",
    "24\n",
    "\n",
    "**Sample Output 1**\n",
    "\n",
    "Not Weird\n",
    "\n",
    "**Explanation 1**\n",
    "\n",
    "Check Tutorial tab to know how to to solve.\n",
    "\n",
    "and is even, so it is not weird.\n"
   ]
  },
  {
   "cell_type": "code",
   "execution_count": 1,
   "metadata": {},
   "outputs": [
    {
     "name": "stdout",
     "output_type": "stream",
     "text": [
      "10\n",
      "Weird\n"
     ]
    }
   ],
   "source": [
    "#!/bin/python3\n",
    "\n",
    "import math\n",
    "import os\n",
    "import random\n",
    "import re\n",
    "import sys\n",
    "\n",
    "\n",
    "\n",
    "if __name__ == '__main__':\n",
    "    num = int(input().strip())\n",
    "\n",
    "if num%2 != 0:\n",
    "    print('Weird')\n",
    "else:\n",
    "    if num in list(range(2,5+1)) or num>20:\n",
    "        print(\"Not Weird\")\n",
    "        \n",
    "    elif num in list(range(6,20+1)):\n",
    "        print(\"Weird\")\n",
    "        \n"
   ]
  },
  {
   "cell_type": "code",
   "execution_count": null,
   "metadata": {},
   "outputs": [],
   "source": []
  }
 ],
 "metadata": {
  "kernelspec": {
   "display_name": "Python 3",
   "language": "python",
   "name": "python3"
  },
  "language_info": {
   "codemirror_mode": {
    "name": "ipython",
    "version": 3
   },
   "file_extension": ".py",
   "mimetype": "text/x-python",
   "name": "python",
   "nbconvert_exporter": "python",
   "pygments_lexer": "ipython3",
   "version": "3.7.6"
  }
 },
 "nbformat": 4,
 "nbformat_minor": 4
}
