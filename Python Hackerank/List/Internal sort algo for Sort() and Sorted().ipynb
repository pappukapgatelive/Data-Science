{
 "cells": [
  {
   "cell_type": "markdown",
   "metadata": {},
   "source": [
    "# Which sorting algo used by python to build sort() and sorted() function?\n",
    "\n",
    "Short Answer: TimSort which is combination of insertion and merge sort. The same sorting also used in Java’s Arrays.sort()\n",
    "\n",
    "The sorting which is used by Python sort and sorted is link: https://en.wikipedia.org/wiki/Timsort\n",
    "\n",
    "\n",
    "**This algorithm first sort small pieces using Insertion Sort, then merges the pieces using merge of merge sort.**\n",
    "\n",
    "***We divides the Array into blocks known as Run. We sort those runs using insertion sort one by one and then merge those runs using combine function used in merge sort.***"
   ]
  },
  {
   "cell_type": "code",
   "execution_count": null,
   "metadata": {},
   "outputs": [],
   "source": [
    "RUN = 32 \n",
    " \n",
    "\"\"\" insertion_sort function\"\"\" \n",
    " \n",
    "def insertionSort(arr,left,right): \n",
    "    for i in range(left+1, right,1): \n",
    "        temp = arr[i] \n",
    "        j = i-1         \n",
    "\t\twhile(arr[j]>temp and j>= left): \n",
    "        \tarr[j+1] = arr[j] \n",
    "            j -=1         \n",
    "\t\tarr[j+1] = temp \n",
    " \n",
    "\"\"\"merge function\"\"\" \n",
    "def merge(arr,l,m,r): \n",
    "    len1 = m - l + 1     \n",
    "\tlen2 = r - m \n",
    "    left = [] \n",
    "    right = [] \n",
    "    for i in range(0, len1, 1): \n",
    "        left.append(arr[l + i]) \n",
    "    for i in range(0, len2, 1): \n",
    "        right.append(arr[m + 1 + i]) \n",
    " \n",
    "    i = 0     \n",
    "\tj = 0     \n",
    "\tk = l \n",
    " \n",
    "    while (i < len1 and j < len2): \n",
    "        if (left[i] <= right[j]): \n",
    "            arr[k] = left[i] \n",
    "            i += 1         \n",
    "\t\telse: \n",
    "            arr[k] = right[j] \n",
    "            j += 1        \n",
    "\t\tk += 1     \n",
    "\t \n",
    "\twhile (i < len1): \n",
    "        arr[k] = left[i] \n",
    "        k += 1  \n",
    "        i += 1     \n",
    "\t \n",
    "\twhile (j < len2): \n",
    "        arr[k] = right[j] \n",
    "        k += 1         \n",
    "\t\tj += 1 \n",
    " \n",
    "\"\"\" tim_sort function\"\"\" \n",
    "def tim_sort(arr,n): \n",
    "    for i in range(0,n,RUN): \n",
    "    \tinsertionSort(arr, i, min((i + 31), (n - 1))) \n",
    " \n",
    "    size = RUN \n",
    "    while(size<n): \n",
    "        left = 0         \n",
    "\t\twhile(left < n): \n",
    "        \tmid = left + size-1 \n",
    "            right = min((left + 2*size - 1), (n-1)) \n",
    "            merge(arr, left, mid, right) \n",
    "            left +=2*size \n",
    "        size = 2*size \n",
    " \n",
    "\"\"\"main function\"\"\" \n",
    "if __name__ == \"__main__\": \n",
    "    list1 = [-15,2,1,-16] \n",
    "    tim_sort(list1,len(list1)+1) \n",
    "    print(list1) "
   ]
  },
  {
   "cell_type": "markdown",
   "metadata": {},
   "source": [
    "`References;\n",
    "\n",
    "https://svn.python.org/projects/python/trunk/Objects/listsort.txt"
   ]
  },
  {
   "cell_type": "code",
   "execution_count": null,
   "metadata": {},
   "outputs": [],
   "source": []
  }
 ],
 "metadata": {
  "kernelspec": {
   "display_name": "Python 3",
   "language": "python",
   "name": "python3"
  },
  "language_info": {
   "codemirror_mode": {
    "name": "ipython",
    "version": 3
   },
   "file_extension": ".py",
   "mimetype": "text/x-python",
   "name": "python",
   "nbconvert_exporter": "python",
   "pygments_lexer": "ipython3",
   "version": "3.7.6"
  }
 },
 "nbformat": 4,
 "nbformat_minor": 4
}
