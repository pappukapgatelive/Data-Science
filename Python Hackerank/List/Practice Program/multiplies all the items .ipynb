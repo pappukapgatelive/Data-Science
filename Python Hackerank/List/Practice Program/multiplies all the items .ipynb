{
 "cells": [
  {
   "cell_type": "markdown",
   "metadata": {},
   "source": [
    "# Write a Python program to multiplies all the items in a list."
   ]
  },
  {
   "cell_type": "code",
   "execution_count": 3,
   "metadata": {},
   "outputs": [
    {
     "name": "stdout",
     "output_type": "stream",
     "text": [
      "1,-9,4,-9\n",
      "324\n"
     ]
    }
   ],
   "source": [
    "import ast\n",
    "\n",
    "mylist = ast.literal_eval(input())\n",
    "\n",
    "list_mul = 1\n",
    "\n",
    "for i in range(0,len(mylist)):\n",
    "    \n",
    "    list_mul *= mylist[i]\n",
    "    \n",
    "print(list_mul)"
   ]
  }
 ],
 "metadata": {
  "kernelspec": {
   "display_name": "Python 3",
   "language": "python",
   "name": "python3"
  },
  "language_info": {
   "codemirror_mode": {
    "name": "ipython",
    "version": 3
   },
   "file_extension": ".py",
   "mimetype": "text/x-python",
   "name": "python",
   "nbconvert_exporter": "python",
   "pygments_lexer": "ipython3",
   "version": "3.7.6"
  }
 },
 "nbformat": 4,
 "nbformat_minor": 4
}
