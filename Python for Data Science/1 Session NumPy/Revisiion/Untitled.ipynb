{
 "cells": [
  {
   "cell_type": "code",
   "execution_count": 2,
   "metadata": {},
   "outputs": [],
   "source": [
    "list_1 = [i for i in range(0,100)]\n",
    "list_2 = [i for i in range(0,200,2)]"
   ]
  },
  {
   "cell_type": "code",
   "execution_count": 3,
   "metadata": {},
   "outputs": [],
   "source": [
    "import numpy as np\n",
    "\n",
    "arry_list_1 = np.array(list_1)\n",
    "arry_list_2 = np.array(list_2)"
   ]
  },
  {
   "cell_type": "code",
   "execution_count": 49,
   "metadata": {},
   "outputs": [],
   "source": [
    "arr = np.array([i for i in range(0,10)])"
   ]
  },
  {
   "cell_type": "code",
   "execution_count": 66,
   "metadata": {},
   "outputs": [
    {
     "data": {
      "text/plain": [
       "array([1, 2, 3])"
      ]
     },
     "execution_count": 66,
     "metadata": {},
     "output_type": "execute_result"
    }
   ],
   "source": [
    "# float value automatically get converted\n",
    "\n",
    "arr1 = np.array( [1,2,3.0], dtype = int )\n",
    "arr1"
   ]
  },
  {
   "cell_type": "code",
   "execution_count": 67,
   "metadata": {},
   "outputs": [
    {
     "data": {
      "text/plain": [
       "numpy.int64"
      ]
     },
     "execution_count": 67,
     "metadata": {},
     "output_type": "execute_result"
    }
   ],
   "source": [
    "type(arr1[2])"
   ]
  },
  {
   "cell_type": "code",
   "execution_count": 68,
   "metadata": {},
   "outputs": [
    {
     "ename": "ValueError",
     "evalue": "invalid literal for int() with base 10: '3.0'",
     "output_type": "error",
     "traceback": [
      "\u001b[0;31m---------------------------------------------------------------------------\u001b[0m",
      "\u001b[0;31mValueError\u001b[0m                                Traceback (most recent call last)",
      "\u001b[0;32m<ipython-input-68-6759bb74f141>\u001b[0m in \u001b[0;36m<module>\u001b[0;34m\u001b[0m\n\u001b[0;32m----> 1\u001b[0;31m \u001b[0marr1\u001b[0m \u001b[0;34m=\u001b[0m \u001b[0mnp\u001b[0m\u001b[0;34m.\u001b[0m\u001b[0marray\u001b[0m\u001b[0;34m(\u001b[0m \u001b[0;34m[\u001b[0m\u001b[0;36m1\u001b[0m\u001b[0;34m,\u001b[0m\u001b[0;36m2\u001b[0m\u001b[0;34m,\u001b[0m\u001b[0;34m'3.0'\u001b[0m\u001b[0;34m]\u001b[0m\u001b[0;34m,\u001b[0m \u001b[0mdtype\u001b[0m \u001b[0;34m=\u001b[0m \u001b[0mint\u001b[0m \u001b[0;34m)\u001b[0m\u001b[0;34m\u001b[0m\u001b[0;34m\u001b[0m\u001b[0m\n\u001b[0m\u001b[1;32m      2\u001b[0m \u001b[0marr1\u001b[0m\u001b[0;34m\u001b[0m\u001b[0;34m\u001b[0m\u001b[0m\n",
      "\u001b[0;31mValueError\u001b[0m: invalid literal for int() with base 10: '3.0'"
     ]
    }
   ],
   "source": [
    "# Because array consiste the string value\n",
    "\n",
    "arr1 = np.array( [1,2,'3.0'], dtype = int )\n",
    "arr1"
   ]
  },
  {
   "cell_type": "code",
   "execution_count": 22,
   "metadata": {},
   "outputs": [
    {
     "data": {
      "text/plain": [
       "0"
      ]
     },
     "execution_count": 22,
     "metadata": {},
     "output_type": "execute_result"
    }
   ],
   "source": [
    "arry_list_1\n",
    "arry_list_2[0]"
   ]
  },
  {
   "cell_type": "code",
   "execution_count": 75,
   "metadata": {},
   "outputs": [
    {
     "data": {
      "text/plain": [
       "(7,)"
      ]
     },
     "execution_count": 75,
     "metadata": {},
     "output_type": "execute_result"
    }
   ],
   "source": [
    "b = np.arange(1,20,3 ,dtype=float)\n",
    "b.shape"
   ]
  },
  {
   "cell_type": "markdown",
   "metadata": {},
   "source": [
    "##### **Understand the diffreance between above and below arange function**"
   ]
  },
  {
   "cell_type": "code",
   "execution_count": 73,
   "metadata": {},
   "outputs": [
    {
     "data": {
      "text/plain": [
       "(1, 10)"
      ]
     },
     "execution_count": 73,
     "metadata": {},
     "output_type": "execute_result"
    }
   ],
   "source": [
    "test = np.array([range(0,10)])\n",
    "test.shape"
   ]
  },
  {
   "cell_type": "code",
   "execution_count": 48,
   "metadata": {},
   "outputs": [
    {
     "data": {
      "text/plain": [
       "numpy.float64"
      ]
     },
     "execution_count": 48,
     "metadata": {},
     "output_type": "execute_result"
    }
   ],
   "source": [
    "type(b[0])"
   ]
  },
  {
   "cell_type": "markdown",
   "metadata": {},
   "source": [
    "There are two ways to create NumPy arrays, which are mentioned below.\n",
    "\n",
    "By converting the existing lists or tuples to arrays using np.array\n",
    "By initialising fixed-length arrays using the NumPy functions\n",
    "In this session, you will learn about both these methods. \n",
    "\n",
    "\n",
    "The key advantage of using NumPy arrays over lists is that arrays allow you to operate over the entire data, unlike lists. However, in terms of structure, NumPy arrays are extremely similar to lists. If you try to run the print() command over a NumPy array, then you will get the following output:\n",
    "\n",
    "\n",
    "[element_1  element_2  element_3…]\n",
    "\n",
    " \n",
    "\n",
    "The only difference between a NumPy array and a list is that the elements in the NumPy array are separated by a space instead of a comma. Hence, this is an aesthetic feature that differentiates a list and a NumPy array.\n",
    "\n",
    "\n",
    "An important point to note here is that the array given above is a one-dimensional array. You will learn about multidimensional arrays in the subsequent segments.\n",
    "\n",
    "\n",
    "Another feature of NumPy arrays is that they are homogeneous in nature. By homogenous, we mean that all the elements in a NumPy array have to be of the same data type, which could be an integer, float, string, etc."
   ]
  },
  {
   "cell_type": "code",
   "execution_count": 10,
   "metadata": {},
   "outputs": [
    {
     "name": "stdin",
     "output_type": "stream",
     "text": [
      " 12\n",
      " 6\n"
     ]
    }
   ],
   "source": [
    "input_list=[ 1, 5, 9, 12, 15, 7, 12, 9 ]\n",
    "m=int(input())\n",
    "n=int(input())\n",
    "\n",
    "array_1 = np.array(input_list)"
   ]
  },
  {
   "cell_type": "code",
   "execution_count": null,
   "metadata": {},
   "outputs": [],
   "source": [
    "[ 1, 5, 9, 12, 15, 7, 12, 9 ]"
   ]
  },
  {
   "cell_type": "code",
   "execution_count": 14,
   "metadata": {},
   "outputs": [
    {
     "name": "stdout",
     "output_type": "stream",
     "text": [
      "[1 5]\n"
     ]
    },
    {
     "name": "stderr",
     "output_type": "stream",
     "text": [
      "/home/alphachita/anaconda3/lib/python3.7/site-packages/ipykernel_launcher.py:1: FutureWarning: Using a non-tuple sequence for multidimensional indexing is deprecated; use `arr[tuple(seq)]` instead of `arr[seq]`. In the future this will be interpreted as an array index, `arr[np.array(seq)]`, which will result either in an error or a different result.\n",
      "  \"\"\"Entry point for launching an IPython kernel.\n"
     ]
    }
   ],
   "source": [
    "final_array =  array_1[[array_1 > m] and [array_1 <n]]\n",
    "#start writing your code from here\n",
    "\n",
    "print(final_array)\n"
   ]
  },
  {
   "cell_type": "markdown",
   "metadata": {},
   "source": [
    "## **Multidimensional Array**\n",
    "\n",
    "NumPy arrays have certain features that help in analysing multidimensional arrays. Some features are as follows:\n",
    "\n",
    "shape: It represents the shape of an array as the number of elements in each dimension.\n",
    "\n",
    "ndim: It represents the number of dimensions of an array. For a 2D array, ndim = 2.\n",
    "\n",
    "Similar to 1D arrays, nD arrays can also operate on individual elements without using list comprehensions or loops."
   ]
  },
  {
   "cell_type": "code",
   "execution_count": 16,
   "metadata": {},
   "outputs": [],
   "source": [
    "a = np.array([1,2,3], ndmin = 2)"
   ]
  },
  {
   "cell_type": "code",
   "execution_count": 17,
   "metadata": {},
   "outputs": [
    {
     "data": {
      "text/plain": [
       "(1, 3)"
      ]
     },
     "execution_count": 17,
     "metadata": {},
     "output_type": "execute_result"
    }
   ],
   "source": [
    "a.shape"
   ]
  },
  {
   "cell_type": "code",
   "execution_count": 19,
   "metadata": {},
   "outputs": [
    {
     "data": {
      "text/plain": [
       "(1, 3)"
      ]
     },
     "execution_count": 19,
     "metadata": {},
     "output_type": "execute_result"
    }
   ],
   "source": [
    "# Another way bis just need to put into the []\n",
    "b = np.array([[1,2,3]])\n",
    "b.shape"
   ]
  },
  {
   "cell_type": "code",
   "execution_count": 29,
   "metadata": {},
   "outputs": [
    {
     "data": {
      "text/plain": [
       "array([[[  0,   1,   2,   3,   4,   5,   6,   7,   8,   9,  10,  11,\n",
       "          12,  13,  14,  15,  16,  17,  18,  19,  20,  21,  22,  23,\n",
       "          24,  25,  26,  27,  28,  29,  30,  31,  32,  33,  34,  35,\n",
       "          36,  37,  38,  39,  40,  41,  42,  43,  44,  45,  46,  47,\n",
       "          48,  49,  50,  51,  52,  53,  54,  55,  56,  57,  58,  59,\n",
       "          60,  61,  62,  63,  64,  65,  66,  67,  68,  69,  70,  71,\n",
       "          72,  73,  74,  75,  76,  77,  78,  79,  80,  81,  82,  83,\n",
       "          84,  85,  86,  87,  88,  89,  90,  91,  92,  93,  94,  95,\n",
       "          96,  97,  98,  99, 100, 101, 102, 103, 104, 105, 106, 107,\n",
       "         108, 109, 110, 111, 112, 113, 114, 115, 116, 117, 118, 119,\n",
       "         120, 121, 122, 123, 124, 125, 126, 127, 128, 129, 130, 131,\n",
       "         132, 133, 134, 135, 136, 137, 138, 139, 140, 141, 142, 143,\n",
       "         144, 145, 146, 147, 148, 149, 150, 151, 152, 153, 154, 155,\n",
       "         156, 157, 158, 159, 160, 161, 162, 163, 164, 165, 166, 167,\n",
       "         168, 169, 170, 171, 172, 173, 174, 175, 176, 177, 178, 179,\n",
       "         180, 181, 182, 183, 184, 185, 186, 187, 188, 189, 190, 191,\n",
       "         192, 193, 194, 195, 196, 197, 198, 199, 200, 201, 202, 203,\n",
       "         204, 205, 206, 207, 208, 209, 210, 211, 212, 213, 214, 215,\n",
       "         216, 217, 218, 219, 220, 221, 222, 223, 224, 225, 226, 227,\n",
       "         228, 229, 230, 231, 232, 233, 234, 235, 236, 237, 238, 239,\n",
       "         240, 241, 242, 243, 244, 245, 246, 247, 248, 249, 250, 251,\n",
       "         252, 253, 254, 255, 256, 257, 258, 259, 260, 261, 262, 263,\n",
       "         264, 265, 266, 267, 268, 269, 270, 271, 272, 273, 274, 275,\n",
       "         276, 277, 278, 279, 280, 281, 282, 283, 284, 285, 286, 287,\n",
       "         288, 289, 290, 291, 292, 293, 294, 295, 296, 297, 298, 299,\n",
       "         300, 301, 302, 303, 304, 305, 306, 307, 308, 309, 310, 311,\n",
       "         312, 313, 314, 315, 316, 317, 318, 319, 320, 321, 322, 323,\n",
       "         324, 325, 326, 327, 328, 329, 330, 331, 332, 333, 334, 335,\n",
       "         336, 337, 338, 339, 340, 341, 342, 343, 344, 345, 346, 347,\n",
       "         348, 349, 350, 351, 352, 353, 354, 355, 356, 357, 358, 359,\n",
       "         360, 361, 362, 363, 364, 365, 366, 367, 368, 369, 370, 371,\n",
       "         372, 373, 374, 375, 376, 377, 378, 379, 380, 381, 382, 383,\n",
       "         384, 385, 386, 387, 388, 389, 390, 391, 392, 393, 394, 395,\n",
       "         396, 397, 398, 399, 400, 401, 402, 403, 404, 405, 406, 407,\n",
       "         408, 409, 410, 411, 412, 413, 414, 415, 416, 417, 418, 419,\n",
       "         420, 421, 422, 423, 424, 425, 426, 427, 428, 429, 430, 431,\n",
       "         432, 433, 434, 435, 436, 437, 438, 439, 440, 441, 442, 443,\n",
       "         444, 445, 446, 447, 448, 449, 450, 451, 452, 453, 454, 455,\n",
       "         456, 457, 458, 459, 460, 461, 462, 463, 464, 465, 466, 467,\n",
       "         468, 469, 470, 471, 472, 473, 474, 475, 476, 477, 478, 479,\n",
       "         480, 481, 482, 483, 484, 485, 486, 487, 488, 489, 490, 491,\n",
       "         492, 493, 494, 495, 496, 497, 498, 499, 500, 501, 502, 503,\n",
       "         504, 505, 506, 507, 508, 509, 510, 511, 512, 513, 514, 515,\n",
       "         516, 517, 518, 519, 520, 521, 522, 523, 524, 525, 526, 527,\n",
       "         528, 529, 530, 531, 532, 533, 534, 535, 536, 537, 538, 539,\n",
       "         540, 541, 542, 543, 544, 545, 546, 547, 548, 549, 550, 551,\n",
       "         552, 553, 554, 555, 556, 557, 558, 559, 560, 561, 562, 563,\n",
       "         564, 565, 566, 567, 568, 569, 570, 571, 572, 573, 574, 575,\n",
       "         576, 577, 578, 579, 580, 581, 582, 583, 584, 585, 586, 587,\n",
       "         588, 589, 590, 591, 592, 593, 594, 595, 596, 597, 598, 599,\n",
       "         600, 601, 602, 603, 604, 605, 606, 607, 608, 609, 610, 611,\n",
       "         612, 613, 614, 615, 616, 617, 618, 619, 620, 621, 622, 623,\n",
       "         624, 625, 626, 627, 628, 629, 630, 631, 632, 633, 634, 635,\n",
       "         636, 637, 638, 639, 640, 641, 642, 643, 644, 645, 646, 647,\n",
       "         648, 649, 650, 651, 652, 653, 654, 655, 656, 657, 658, 659,\n",
       "         660, 661, 662, 663, 664, 665, 666, 667, 668, 669, 670, 671,\n",
       "         672, 673, 674, 675, 676, 677, 678, 679, 680, 681, 682, 683,\n",
       "         684, 685, 686, 687, 688, 689, 690, 691, 692, 693, 694, 695,\n",
       "         696, 697, 698, 699, 700, 701, 702, 703, 704, 705, 706, 707,\n",
       "         708, 709, 710, 711, 712, 713, 714, 715, 716, 717, 718, 719,\n",
       "         720, 721, 722, 723, 724, 725, 726, 727, 728, 729, 730, 731,\n",
       "         732, 733, 734, 735, 736, 737, 738, 739, 740, 741, 742, 743,\n",
       "         744, 745, 746, 747, 748, 749, 750, 751, 752, 753, 754, 755,\n",
       "         756, 757, 758, 759, 760, 761, 762, 763, 764, 765, 766, 767,\n",
       "         768, 769, 770, 771, 772, 773, 774, 775, 776, 777, 778, 779,\n",
       "         780, 781, 782, 783, 784, 785, 786, 787, 788, 789, 790, 791,\n",
       "         792, 793, 794, 795, 796, 797, 798, 799, 800, 801, 802, 803,\n",
       "         804, 805, 806, 807, 808, 809, 810, 811, 812, 813, 814, 815,\n",
       "         816, 817, 818, 819, 820, 821, 822, 823, 824, 825, 826, 827,\n",
       "         828, 829, 830, 831, 832, 833, 834, 835, 836, 837, 838, 839,\n",
       "         840, 841, 842, 843, 844, 845, 846, 847, 848, 849, 850, 851,\n",
       "         852, 853, 854, 855, 856, 857, 858, 859, 860, 861, 862, 863,\n",
       "         864, 865, 866, 867, 868, 869, 870, 871, 872, 873, 874, 875,\n",
       "         876, 877, 878, 879, 880, 881, 882, 883, 884, 885, 886, 887,\n",
       "         888, 889, 890, 891, 892, 893, 894, 895, 896, 897, 898, 899,\n",
       "         900, 901, 902, 903, 904, 905, 906, 907, 908, 909, 910, 911,\n",
       "         912, 913, 914, 915, 916, 917, 918, 919, 920, 921, 922, 923,\n",
       "         924, 925, 926, 927, 928, 929, 930, 931, 932, 933, 934, 935,\n",
       "         936, 937, 938, 939, 940, 941, 942, 943, 944, 945, 946, 947,\n",
       "         948, 949, 950, 951, 952, 953, 954, 955, 956, 957, 958, 959,\n",
       "         960, 961, 962, 963, 964, 965, 966, 967, 968, 969, 970, 971,\n",
       "         972, 973, 974, 975, 976, 977, 978, 979, 980, 981, 982, 983,\n",
       "         984, 985, 986, 987, 988, 989, 990, 991, 992, 993, 994, 995,\n",
       "         996, 997, 998, 999]]])"
      ]
     },
     "execution_count": 29,
     "metadata": {},
     "output_type": "execute_result"
    }
   ],
   "source": [
    "# 3D\n",
    "\n",
    "a = np.array([i for i in range(1000)], ndmin = 3)\n",
    "a"
   ]
  },
  {
   "cell_type": "code",
   "execution_count": 27,
   "metadata": {},
   "outputs": [
    {
     "data": {
      "text/plain": [
       "2"
      ]
     },
     "execution_count": 27,
     "metadata": {},
     "output_type": "execute_result"
    }
   ],
   "source": [
    "# another way to 3D\n",
    "\n",
    "c = np.zeros(30).reshape(3,10)\n",
    "c.ndim"
   ]
  }
 ],
 "metadata": {
  "kernelspec": {
   "display_name": "Python 3",
   "language": "python",
   "name": "python3"
  },
  "language_info": {
   "codemirror_mode": {
    "name": "ipython",
    "version": 3
   },
   "file_extension": ".py",
   "mimetype": "text/x-python",
   "name": "python",
   "nbconvert_exporter": "python",
   "pygments_lexer": "ipython3",
   "version": "3.7.6"
  }
 },
 "nbformat": 4,
 "nbformat_minor": 4
}
